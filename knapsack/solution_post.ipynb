{
 "nbformat": 4,
 "nbformat_minor": 2,
 "metadata": {
  "language_info": {
   "name": "python",
   "codemirror_mode": {
    "name": "ipython",
    "version": 3
   },
   "version": "3.7.5-final"
  },
  "orig_nbformat": 2,
  "file_extension": ".py",
  "mimetype": "text/x-python",
  "name": "python",
  "npconvert_exporter": "python",
  "pygments_lexer": "ipython3",
  "version": 3,
  "kernelspec": {
   "name": "python37564bit45f0d8648ae8461b94a16f8d6e9b4d96",
   "display_name": "Python 3.7.5 64-bit"
  }
 },
 "cells": [
  {
   "cell_type": "markdown",
   "metadata": {},
   "source": [
    "This is the first in (hopefully) a series of blog posts on solutions to weekly programming assignments for [Professor Pascal Van Hentenryck's Discrete Optimization course on Coursera](https://www.coursera.org/learn/discrete-optimization/home/welcome). In my experience so far, the lectures are very good, and the programming assignments are even better. \n",
    "\n",
    "Each week, Professor Van Hentenryck introduces a set of algorithmic approaches to combinatorial optimization problems. Then, the weekly programming assignment is an NP-hard optimization problem, along with a set of several different input data files. The different data files are all valid inputs to the same problem, but of different sizes (i.e. it's much harder to find an optimal solution for a given NP-hard problem on a large dataset than a small one)\n",
    "\n",
    "It's always going to be pretty easy to get a pretty good solution for the smaller data files. To get an optimal solution to the smaller data files, you might have to be a bit more clever. To get a good solution to the larger data files, it's gonna be a bit more work. And to do really well, you need to find optimal (or at least close to optimal) solutions for even the largest data files. "
   ]
  },
  {
   "cell_type": "markdown",
   "metadata": {},
   "source": [
    "## The First Week's Programming Assignment\n",
    "\n",
    "The first week's programming assingment is the [Knapsack Problem](https://en.wikipedia.org/wiki/Knapsack_problem). "
   ]
  },
  {
   "cell_type": "markdown",
   "metadata": {},
   "source": [
    "### Problem Formulation\n",
    "Formally, the problem is defined as:"
   ]
  },
  {
   "cell_type": "markdown",
   "metadata": {},
   "source": [
    "maximize:  $\\sum_{i \\in 0...n-1} v_i x_i$\n",
    "\n",
    "subject to: $\\sum_{i in 0...n-1} w_i x_i \\leq K   $, $x \\in {0,1}$"
   ]
  },
  {
   "cell_type": "markdown",
   "metadata": {},
   "source": [
    "If this looks confusing, here's the plain english interpretation of the problem:\n",
    "- We are presented with a set of items, and a knapsack\n",
    "- Each item has a value $(v)$ and weight $(w)$. Our knapsack can hold a maximum combined weight of $K$\n",
    "- $x_i$ is 0 or 1 depending on if we place item $i$ in our knapsack\n",
    "\n",
    "Hopefully now the math above looks pretty straightforward: find the set of items that maximizes their combined value, such that the combined weights of the selected items don't exceed our knapsack weight capacity."
   ]
  },
  {
   "cell_type": "markdown",
   "metadata": {},
   "source": [
    "### Data Format Specification\n",
    "Each input file we're given has n+1 lines in the following format:\n",
    "\n",
    "```\n",
    "n K \n",
    "v_0 w_0\n",
    "v_1 w_1\n",
    "...\n",
    "v_n-1 w_n-1\n",
    "```\n",
    "\n",
    "...where the $n$ and $K$ on the top line represent the number of items we have to select from, and the capacity of the knapsack. Each line after the first describes an item; $v_i$ & $ w_i$\n",
    "\n",
    "For our solution, we'll output two lines of the format:\n",
    "\n",
    "```\n",
    "obj opt \n",
    "x_0 x_1 ... x_n-1\n",
    "```\n",
    "...where:\n",
    "- 'obj' will be the total value of our selected items, \n",
    "- 'opt' is 1 if we know our solution is optimal, and 0 otherwise\n",
    "- x_i... are all 0 or 1 for whether we selected that item or not  "
   ]
  },
  {
   "cell_type": "markdown",
   "metadata": {},
   "source": [
    "## Jumping into the code\n",
    "As a jumping off point, [we're given the following naive solution](https://github.com/MaxPowerWasTaken/discrete_opt_coursera/blob/6d8f8a854b1a6a13a5b22d6bf9997ed2d63ca49d/knapsack/solver.py#L7):\n",
    "\n",
    "```python\n",
    "def solve_it(input_data):\n",
    "    # Modify this code to run your optimization algorithm\n",
    "\n",
    "    # parse the input\n",
    "    lines = input_data.split('\\n')\n",
    "\n",
    "    firstLine = lines[0].split()\n",
    "    item_count = int(firstLine[0])\n",
    "    capacity = int(firstLine[1])\n",
    "\n",
    "    items = []\n",
    "\n",
    "    for i in range(1, item_count+1):\n",
    "        line = lines[i]\n",
    "        parts = line.split()\n",
    "        items.append(Item(i-1, int(parts[0]), int(parts[1])))\n",
    "\n",
    "    # a trivial algorithm for filling the knapsack\n",
    "    # it takes items in-order until the knapsack is full\n",
    "    value = 0\n",
    "    weight = 0\n",
    "    taken = [0]*len(items)\n",
    "\n",
    "    for item in items:\n",
    "        if weight + item.weight <= capacity:\n",
    "            taken[item.index] = 1\n",
    "            value += item.value\n",
    "            weight += item.weight\n",
    "    \n",
    "    # prepare the solution in the specified output format\n",
    "    output_data = str(value) + ' ' + str(0) + '\\n'\n",
    "    output_data += ' '.join(map(str, taken))\n",
    "    return output_data\n",
    "```\n"
   ]
  },
  {
   "cell_type": "markdown",
   "metadata": {},
   "source": [
    "...there's a bit more scaffolding code as well, namely a `submit.py` script that calls this `solve_it` function on progressively larger input data files, sends the solutions to coursera's server and then records the scores.\n",
    "``` ```   "
   ]
  },
  {
   "cell_type": "markdown",
   "metadata": {},
   "source": [
    "...As a quick aside, I much prefer the user experience for the programming assignments in this course-- programming in my own editor/environment, and submitting my solutions via a script from my own terminal-- to the alternative that some MOOCs have, where all programming assignments are done in a jupyter notebook on their server.\n",
    "\n",
    "Anyway, the naive solution starter code we were given scores 3/10 on each of the six problems, for 18/60 overall."
   ]
  },
  {
   "cell_type": "markdown",
   "metadata": {},
   "source": [
    "### Coding our first solution "
   ]
  },
  {
   "cell_type": "markdown",
   "metadata": {},
   "source": [
    "The optimization topics covered in this first week were:\n",
    "- Greedy algorithms\n",
    "- Dynamic Programming\n",
    "- Relaxation, Branch and Bound\n",
    "\n",
    "So for my first solution, as a baseline, I started with a simple value-dense greedy selection:"
   ]
  },
  {
   "cell_type": "code",
   "execution_count": null,
   "metadata": {},
   "outputs": [],
   "source": [
    "import numpy as np\n",
    "import pandas as pd\n",
    "\n",
    "def unzip(iterable):\n",
    "    ''' thanks to https://stackoverflow.com/a/22115957/1870832'''\n",
    "    return zip(*iterable)\n",
    "\n",
    "\n",
    "def parse_data(input_data):\n",
    "    ''' Convert string input into set of np arrays, along with capacity'''\n",
    "\n",
    "    lines = str.splitlines(input_data)\n",
    "\n",
    "    # first line is n,K\n",
    "    capacity = int(lines[0].split()[1])\n",
    "\n",
    "    # convert list of 'value weight' strings to  unzipped lists of values, weights\n",
    "    pairs = [x.split() for x in lines[1:]]  \n",
    "    values, weights = unzip(pairs)         \n",
    "\n",
    "    # convert from str to int\n",
    "    values = [int(v) for v in values]\n",
    "    weights = [int(w) for w in weights]\n",
    "\n",
    "    return values, weights, capacity\n",
    "\n",
    "\n",
    "def greedy_select(values, weights, K):\n",
    "    ''' Value-dense greedy selection algorithm'''\n",
    "    \n",
    "    # convert to DF, add new column for value-density \n",
    "    df = pd.DataFrame({'value': values, 'weight': weights, 'capacity': K})\n",
    "    df['value_density'] = df.value / df.weight\n",
    "\n",
    "    # identify which items to select (top items by value-density, \n",
    "    # until cumulative-weight > capacity)\n",
    "    df = df.sort_values(by=\"value_density\", ascending=False)\n",
    "    df['cumulative_weight'] = df.weight.cumsum()\n",
    "\n",
    "    # return whether to select each item, **in original order given**, along with total value\n",
    "    df['item_selected'] = np.where(df.cumulative_weight <= df.capacity, 1, 0)\n",
    "\n",
    "    total_value = df.loc[df.item_selected==1, 'value'].sum()\n",
    "    item_selections = list(df.sort_index().loc[:, 'item_selected'])\n",
    "\n",
    "    return total_value, item_selections\n",
    "\n",
    "def solve_it(input_data):\n",
    "    \n",
    "    # parse the input\n",
    "    (values, weights, K) = parse_data(input_data)\n",
    "    \n",
    "    # value-dense greedy algorithm for filling the knapsack\n",
    "    obj, item_selections = greedy_select(values, weights, K)\n",
    "\n",
    "    # prepare the solution in the specified output format\n",
    "    PROVED_OPTIMAL = 0\n",
    "    output_data = f\"{obj} {PROVED_OPTIMAL}\\n\"\n",
    "    output_data += ' '.join(str(i) for i in item_selections)\n",
    "    return output_data\n"
   ]
  },
  {
   "cell_type": "markdown",
   "metadata": {},
   "source": [
    "Alright so how does this solution do? We can check by running the `submit.py` script we're given as part of the assignment, which will run our `solve_it` code for six incrementally larger data files, send the solutions to the coursera server, where it will be scored:\n",
    "\n",
    "```bash\n",
    "(knapenv) maxepstein@pop-os:~/discrete_opt/knapsack$ python submit.py\n",
    "==\n",
    "== Knapsack Solution Submission \n",
    "==\n",
    "Hello! These are the assignment parts that you can submit:\n",
    "1) Knapsack Problem 1\n",
    "2) Knapsack Problem 2\n",
    "3) Knapsack Problem 3\n",
    "4) Knapsack Problem 4\n",
    "5) Knapsack Problem 5\n",
    "6) Knapsack Problem 6\n",
    "0) All\n",
    "Please enter which part(s) you want to submit (0-6): 0\n",
    "```\n",
    "...As a quick aside, I much prefer the user experience for the programming assignments in this course-- programming in my own editor/environment, and submitting my solutions via a script from my own terminal-- to the alternative that some MOOCs have, where all programming assignments are done in a jupyter notebook on their server.\n",
    "\n",
    "Anyway, back to the scoring. My value-dense greedy solution scores 3/10 on each of the six problems, for 18/60 overall. Let's move on to another approach."
   ]
  },
  {
   "cell_type": "markdown",
   "metadata": {},
   "source": [
    "### Second Approach: Dynamic Programming.\n"
   ]
  }
 ]
}